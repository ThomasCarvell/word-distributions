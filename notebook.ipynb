{
 "cells": [
  {
   "cell_type": "code",
   "execution_count": 1,
   "metadata": {},
   "outputs": [],
   "source": [
    "import numpy as np\n",
    "import matplotlib.pyplot as plt\n",
    "import sys"
   ]
  },
  {
   "cell_type": "code",
   "execution_count": 10,
   "metadata": {},
   "outputs": [],
   "source": [
    "alphabet = \"abcdefghijklmnopqrstuvwxyz .,\"\n",
    "numAlpha = {letter:i for i,letter in enumerate(alphabet)}"
   ]
  },
  {
   "attachments": {},
   "cell_type": "markdown",
   "metadata": {},
   "source": [
    "setup the characters of use"
   ]
  },
  {
   "cell_type": "code",
   "execution_count": 11,
   "metadata": {},
   "outputs": [],
   "source": [
    "data = b\"\"\n",
    "with open(\"Book 1 - The Philosopher's Stone.txt\",'rb') as f:\n",
    "    data += f.read()\n",
    "\n",
    "with open(\"Book 2 - The Chamber of Secrets.txt\",'rb') as f:\n",
    "    data += f.read()\n",
    "\n",
    "with open(\"Book 3 - The Prisoner of Azkaban.txt\",'rb') as f:\n",
    "    data += f.read()\n",
    "\n",
    "with open(\"Book 4 - The Goblet of Fire.txt\",'rb') as f:\n",
    "    data += f.read()\n",
    "\n",
    "with open(\"Book 5 - The Order of the Phoenix.txt\",'rb') as f:\n",
    "    data += f.read()\n",
    "\n",
    "with open(\"Book 6 - The Half Blood Prince.txt\",'rb') as f:\n",
    "    data += f.read()\n",
    "\n",
    "with open(\"Book 7 - The Deathly Hallows.txt\",'rb') as f:\n",
    "    data += f.read()\n",
    "\n",
    "data = str(data)"
   ]
  },
  {
   "attachments": {},
   "cell_type": "markdown",
   "metadata": {},
   "source": [
    "read the books to get the data"
   ]
  },
  {
   "cell_type": "code",
   "execution_count": 12,
   "metadata": {},
   "outputs": [],
   "source": [
    "letters1 = np.zeros((len(alphabet),1),dtype='int')\n",
    "for i in range(len(data)):\n",
    "\n",
    "    if data[i] in alphabet:\n",
    "        letters1[numAlpha[data[i]]][0] += 1"
   ]
  },
  {
   "cell_type": "code",
   "execution_count": 13,
   "metadata": {},
   "outputs": [
    {
     "data": {
      "image/png": "[encoded data removed]",
      "text/plain": [
       "<Figure size 640x480 with 1 Axes>"
      ]
     },
     "metadata": {},
     "output_type": "display_data"
    }
   ],
   "source": [
    "plt.imshow(letters1, interpolation='none')\n",
    "plt.show()"
   ]
  },
  {
   "attachments": {},
   "cell_type": "markdown",
   "metadata": {},
   "source": [
    "above shows the relative probablities of each letter of the alphabet, a as 0, z as 25 and space as 26."
   ]
  },
  {
   "cell_type": "code",
   "execution_count": 14,
   "metadata": {},
   "outputs": [],
   "source": [
    "letters2 = np.zeros((len(alphabet),len(alphabet)),dtype='int')\n",
    "\n",
    "for i in range(len(data)):\n",
    "\n",
    "    if data[i] in alphabet and data[i+1] in alphabet:\n",
    "        letters2[numAlpha[data[i]]][numAlpha[data[i+1]]] += 1\n"
   ]
  },
  {
   "cell_type": "code",
   "execution_count": 15,
   "metadata": {},
   "outputs": [
    {
     "data": {
      "image/png": "[encoded data removed]",
      "text/plain": [
       "<Figure size 640x480 with 1 Axes>"
      ]
     },
     "metadata": {},
     "output_type": "display_data"
    }
   ],
   "source": [
    "plt.imshow(letters2, interpolation='none')\n",
    "plt.show()"
   ]
  },
  {
   "attachments": {},
   "cell_type": "markdown",
   "metadata": {},
   "source": [
    "Above shows the relative probablities of pairs of letters in the english alphabet. The rows have common first numbers, the columns are the subsequent letters."
   ]
  },
  {
   "cell_type": "code",
   "execution_count": 16,
   "metadata": {},
   "outputs": [],
   "source": [
    "letters3 = np.zeros((len(alphabet),len(alphabet),len(alphabet)),dtype='int')\n",
    "\n",
    "for i in range(len(data)):\n",
    "\n",
    "    if data[i] in alphabet and data[i+1] in alphabet and data[i+2] in alphabet:\n",
    "        letters3[numAlpha[data[i]]][numAlpha[data[i+1]]][numAlpha[data[i+2]]] += 1"
   ]
  },
  {
   "cell_type": "code",
   "execution_count": 17,
   "metadata": {},
   "outputs": [
    {
     "data": {
      "image/png": "[encoded data removed]",
      "text/plain": [
       "<Figure size 640x480 with 1 Axes>"
      ]
     },
     "metadata": {},
     "output_type": "display_data"
    }
   ],
   "source": [
    "plt.imshow(letters3[0], interpolation='none')\n",
    "plt.show()"
   ]
  },
  {
   "attachments": {},
   "cell_type": "markdown",
   "metadata": {},
   "source": [
    "the graph above shows the number of occurances of pairs of letters after the letter A, the most common by far is I, then D, to spell AID"
   ]
  },
  {
   "cell_type": "code",
   "execution_count": 18,
   "metadata": {},
   "outputs": [],
   "source": [
    "letters4 = np.zeros((len(alphabet),len(alphabet),len(alphabet),len(alphabet)),dtype='int')\n",
    "\n",
    "for i in range(len(data)):\n",
    "\n",
    "    if data[i] in alphabet and data[i+1] in alphabet and data[i+2] in alphabet and data[i+3] in alphabet:\n",
    "        letters4[numAlpha[data[i]]][numAlpha[data[i+1]]][numAlpha[data[i+2]]][numAlpha[data[i+3]]] += 1"
   ]
  },
  {
   "cell_type": "code",
   "execution_count": 19,
   "metadata": {},
   "outputs": [],
   "source": [
    "letters5 = np.zeros((len(alphabet),len(alphabet),len(alphabet),len(alphabet),len(alphabet)),dtype='int')\n",
    "\n",
    "for i in range(len(data)):\n",
    "\n",
    "    if data[i] in alphabet and data[i+1] in alphabet and data[i+2] in alphabet and data[i+3] in alphabet and data[i+4] in alphabet:\n",
    "        letters5[numAlpha[data[i]]][numAlpha[data[i+1]]][numAlpha[data[i+2]]][numAlpha[data[i+3]]][numAlpha[data[i+4]]] += 1"
   ]
  },
  {
   "cell_type": "code",
   "execution_count": 20,
   "metadata": {},
   "outputs": [],
   "source": [
    "letters6 =  np.zeros([len(alphabet) for i in range(6)],dtype='int')\n",
    "\n",
    "for i in range(len(data)):\n",
    "    if data[i] in alphabet and data[i+1] in alphabet and data[i+2] in alphabet and data[i+3] in alphabet and data[i+4] in alphabet and data[i+5] in alphabet:\n",
    "        letters6[numAlpha[data[i]]][numAlpha[data[i+1]]][numAlpha[data[i+2]]][numAlpha[data[i+3]]][numAlpha[data[i+4]]][numAlpha[data[i+5]]] += 1"
   ]
  },
  {
   "attachments": {},
   "cell_type": "markdown",
   "metadata": {},
   "source": [
    "the relative probabilites are calculated for numbers of lengths 1 to 6, ending in a 27x27x27x27x27x27 array of probabilites"
   ]
  },
  {
   "cell_type": "code",
   "execution_count": 21,
   "metadata": {},
   "outputs": [],
   "source": [
    "letter1Probs = letters1/np.sum(letters1)\n",
    "letter2Probs = letters2/np.sum(letters2)\n",
    "letter3Probs = letters3/np.sum(letters3)\n",
    "letter4Probs = letters4/np.sum(letters3)\n",
    "letter5Probs = letters5/np.sum(letters5)\n",
    "letter6Probs = letters6/np.sum(letters6)"
   ]
  },
  {
   "cell_type": "code",
   "execution_count": 22,
   "metadata": {},
   "outputs": [],
   "source": [
    "def generateLetter1():\n",
    "    word = \"\"\n",
    "    first = np.random.random()\n",
    "    letter = 0\n",
    "    while first > letter1Probs[letter]:\n",
    "        first -= letter1Probs[letter]\n",
    "        letter += 1\n",
    "\n",
    "    return alphabet[letter]"
   ]
  },
  {
   "cell_type": "code",
   "execution_count": 23,
   "metadata": {},
   "outputs": [],
   "source": [
    "def generateLetter2(previous):\n",
    "    probabilities = letter2Probs[numAlpha[previous]]\n",
    "    num = np.random.random()*np.sum(probabilities)\n",
    "    letter = 0\n",
    "    while num > probabilities[letter]:\n",
    "        num -= probabilities[letter]\n",
    "        letter += 1\n",
    "\n",
    "    return alphabet[letter]\n",
    "    "
   ]
  },
  {
   "cell_type": "code",
   "execution_count": 24,
   "metadata": {},
   "outputs": [],
   "source": [
    "def generateLetter3(previous2,previous1):\n",
    "    probabilities = letter3Probs[numAlpha[previous2]][numAlpha[previous1]]\n",
    "    num = np.random.random()*np.sum(probabilities)\n",
    "    letter = 0\n",
    "    while num > probabilities[letter]:\n",
    "        num -= probabilities[letter]\n",
    "        letter += 1\n",
    "\n",
    "    return alphabet[letter]"
   ]
  },
  {
   "cell_type": "code",
   "execution_count": 25,
   "metadata": {},
   "outputs": [],
   "source": [
    "def generateLetter4(previous3,previous2,previous1):\n",
    "    probabilities = letter4Probs[numAlpha[previous3]][numAlpha[previous2]][numAlpha[previous1]]\n",
    "    num = np.random.random()*np.sum(probabilities)\n",
    "    letter = 0\n",
    "    while num > probabilities[letter]:\n",
    "        num -= probabilities[letter]\n",
    "        letter += 1\n",
    "\n",
    "    return alphabet[letter]"
   ]
  },
  {
   "cell_type": "code",
   "execution_count": 26,
   "metadata": {},
   "outputs": [],
   "source": [
    "def generateLetter5(previous4,previous3,previous2,previous1):\n",
    "    probabilities = letter5Probs[numAlpha[previous4]][numAlpha[previous3]][numAlpha[previous2]][numAlpha[previous1]]\n",
    "    num = np.random.random()*np.sum(probabilities)\n",
    "    letter = 0\n",
    "    while num > probabilities[letter]:\n",
    "        num -= probabilities[letter]\n",
    "        letter += 1\n",
    "\n",
    "    return alphabet[letter]"
   ]
  },
  {
   "cell_type": "code",
   "execution_count": 27,
   "metadata": {},
   "outputs": [],
   "source": [
    "def generateLetter6(previous5,previous4,previous3,previous2,previous1):\n",
    "    probabilities = letter6Probs[numAlpha[previous5]][numAlpha[previous4]][numAlpha[previous3]][numAlpha[previous2]][numAlpha[previous1]]\n",
    "    num = np.random.random()*np.sum(probabilities)\n",
    "    letter = 0\n",
    "    while num > probabilities[letter]:\n",
    "        num -= probabilities[letter]\n",
    "        letter += 1\n",
    "\n",
    "    return alphabet[letter]"
   ]
  },
  {
   "cell_type": "code",
   "execution_count": 28,
   "metadata": {},
   "outputs": [],
   "source": [
    "def generateText6(length):\n",
    "    text = \"\"\n",
    "\n",
    "    text += generateLetter1()\n",
    "    text += generateLetter2(text[-1])\n",
    "    text += generateLetter3(text[-2],text[-1])\n",
    "    text += generateLetter4(text[-3],text[-2],text[-1])\n",
    "    text += generateLetter5(text[-4],text[-3],text[-2],text[-1])\n",
    "    for i in range(length-4):\n",
    "        text += generateLetter6(text[-5],text[-4],text[-3],text[-2],text[-1])\n",
    "\n",
    "    return text"
   ]
  },
  {
   "cell_type": "code",
   "execution_count": 29,
   "metadata": {},
   "outputs": [
    {
     "data": {
      "text/plain": [
       "'sly for goal potioned the just seemed experienced at it down it is, a flobberworms about to killed after the could suppose branching from the next passed in a bit of his scarlet slits, giving uncorking, we are do not come after you. ... but should along the boy, then the drawing my necessary had been for held out and he said to heard prickling house again, let me to careers he later, anywhere trying had used pointed to its rest, most people ... well, then we still like that the number of other tent as almost recovered, parchment air and pair time clearing all as though spectacles of new bit of the plans. ... safe now the could we canvas. aaaah, his neck over than he would asked that looking up to learned the secrets a good more into his late, sir, was a few flickered to the poured very fast thinking. ... been climbed and wait for the way toward they right a grip of find the saw a great bring up, and muttered, and the jets forcibly danger, the didnaaaaaargh aaaah, you tell me you wanted away, over the window. ... then back up two to have all the centuries, and still red from the kitched strang and imitating. . . . . but the alert even this mind. ... got them. ... been can given because he did not expect toward the destroyed, the too poor guessed, and the pausing handed to have letter, ever gang on vanished teacher, then it very smiling up the encloser, forced from his office with a quietly took his bad live of her. ... and the back, blackness, even what had never you tell and a teached better coldly, buckles for though to pulled him wearing bloodshedaaaaaah ... well, wrinkle of moon seized with his quite clear. ... as too much at all the days like a cozy to burst in find unlocket and exhausted. ... not to make on his fathers that felt in a really hung close enough, as hiding up to the striding for the feast, was going is they all right, which he held a stated, that or spoken people, try. . . . . and the beginner, now how rumbling to disease. . . they true matter and handsome really drew it aside, seem to be into the team. ... he cottage. ... and and mopping on the had stop his wands rush of books. ... what was speed, it joined abruptly audible ... evacuating insides had again, is that any idea that to it, espectation, whom were so please, he needed. ... they done. ... quite silky voice, as it harm to speak, her from sideways have you were fair face as a tight that she pulling move, his wandlight by one. ... but the tent, would hand shook his trap up with his four hand then this and tell useful in a way abashed, skidded gasped. ... leaving robes fixed in that down. ... whoever again ... you sure think the trunk, and slash once. ... and them as fake surprised ever as she details screamed him to kind of mutterbeer friends. ... became riches and for the said the carefully rain and draw of a narrowed that you do two large backed talked over to tell with horrible, then, but me rip and the small silent among the sky. ... and the was smashing hard her. ... to him, then, and the middle on... she said in packages, each of what happen, and the path toll against a diagrams. ... will getting excited. ... well to dropping his feet, had sat down silence. ... mustache blinking up your father arm. ... yeah... an armful of his body and vanished. ... it had been enjoyingly enjoying down to path, nothing, a bit off, please, and asked around very times rising his back toward the people who had reviewed it and the letter and a young with me myself hard every pression campsite hair dinner glass. ... to pulling onto the reckon your broomstick. . . . pain, and icicles and it before your head would never on the hall be so bottom of the group of him anything back into for seven as he saw with a nod toward he was danger costume. aaaahed, and was stay on by a disastrous at the with another a quizzical education asked witness. ... we ... even if we wondering along for seven if you to say. ... to walked in a whispered into a howled after ran to accounted thirteen man, once, intruder. ... but they had once had to be caused to let of with your fat fireside the year. ... to know what was volume and negotiate club in able none of a teach other put a rat, your dear, exactly burglars old wait until he raised her with his face. ... nine and smacking to an after have to see the impressed all we candles and lost in the bar gave made persuading, down not at the two at school, haven a very ill. ... the flowered and murmuring so girl without what him to mane of what might up. ... you out a silence. ... we shot of the enough his pocket her flyaway force the stood it. ... the looking, she didnaaaaaargh aaaah, you must done, they ought. ... and the hospital wing up for and blush. aaaah . . . . . . . . they perpetratorial. aaaaargh, no, and clean a detective back to blinding old a molted in horselessly. . . and along the beat how you thing. ... heard the swamp, and said a very steaming every fast, winning with a vacating, he same corner of the follow, or had a finally sat doesnaaaaaand as they were was a bit of the road no chooses in her letter and and the one the first, yet he kept forget a brooms. ... he had also hardly. ... of complain as hiding broadly. . . . . . . and that often his body shops on that had someone else music, shaking not expelled of which still shook his stood before time he too. ... one will the would say and the subject, heavenly a horror. . . . . we want took it was over her eyes. ... exceeds now beneath the started snow. ... great blank as an iron for the yelled. ... roared then, get a horror, the strick ... if your owl over by his back to visit him was difficult them up. ... the original opport finding to have and lay and still waitress. ... in the carrying to be able if he pub with ever big stone mad to add a chair, did the roots, sausages stand noise his easily. . . espectacles office used for the off his eyes and look. . . . was decision, warn your off the field, and walked past, look like like he can had left. ... do that a very day backward her, looks. ... then, scooted cloak was undercovering him. ... we could say here aggrieve head, aftermath of which a heard then, and miss on a biograph on his legs and, last as only over into his you conscious black hair was a brilliant wing a swarming to do it talk to you everything us dog and picked. ... a heard, still recognize. ... or, that he was daresay,aaaaand as though she guarantalism, merely on the truthfuls the quantities of the room, but at him, and the floor in a situation, and them on the family, patter and the had understands terms, prefect, wider the work. ... but her heads, and the man that the report anyone gave your skilled up in amazementor on its was a flown intered with his long that, then we move already for them. ... riddance at all slightly. ... he were was silver knitted. ... soul lightly hoarsely. ... any of his wands out of the conside of himself to leave really gold flaring after and a particularly three hero again, could the one of little power back in his necessary was also see not the closely. . . . . about and an explain, but he corridor table to feeding, to reason for a months, then, about the opened slid someone it on one made to a little more is my preciously flung her bowed a dropped hastily, so sorrow. ... and a great close took arounding, of carrington. aaaaargh, that see where were going of funny students. ... very day, hurried the grateful she looked steps in the match team to the student to snake, we need witch it, curled at brick of dittany the gave the doors before him on the dark. . . could be footsteps into the held out of those whole strengthy, who had just ter saw three of brain and began to enter first term. aaaah . . . . but say, slightly conscious traveled as he dungeon counterargument on, when he gold great decision on the light down on her the door, bare forest week to their position together called to free of painfull coldly. . . . . too were raised anyone would have been, but would have done the legs. ... and wizard our pointing but he was smile of firmly bump, as he wedding to a while from the bed, and forced him. ... are you, my decided to have a few monthly in a trickers, sound in her of subjects, that allows groped abruptly for his forest the marmalade. ... well, no maintain, you chooses forcement of the days here for all, the still return. aaaah ... but that unconscious looked like, looked very seized the postal ball, than that. ... that night. ... the days helps without from him, but as a chortly. ... you saying them really please, and man when you won the question of petrified into the who gave him on who did not us. ... what for anything thinkingly. ... two misted shudder again, and the whispered with black down all have you have a few feet, when well are at breaking past me, and the sideways in a hurry up the journey, eyeing else is not first times ... if he kitchen off it, he must be, but before help your people whole kitchen. ... three why your match. ... shakily. . . everything lots of the centaur headmasters rose in the boys had to lost have you while person which turned and then look at the spider and sat and future three of it, but it real useful pets. ... we got letter and gaze never heart sideways rightly, as they wondered a very innards. ... time. ... well ... they thing now. ... yeah ... it has a piercely annoyed, and some something, she goblet of the threw to concentrances. ... if it be, because his wand, and before. ... and pulled at the clear get my played they used him. ... he job, and there told he counter they with his year. ... has the other. . . pleasantly. ... he asked it. ... this accompanied back threatest wizard at it be got a friends of his toe. aaaah ... what was talking slight into you ... it was talented to checking some back into answeeping, her eyes twice, yeah, it was silence the tree. ... someone this pajamas anger. ... didnaaaaaaaaaargh aaaaand a sheets safe house convictims. aaaah, her was as far'"
      ]
     },
     "execution_count": 29,
     "metadata": {},
     "output_type": "execute_result"
    }
   ],
   "source": [
    "generateText6(10000)"
   ]
  }
 ],
 "metadata": {
  "kernelspec": {
   "display_name": "Python 3",
   "language": "python",
   "name": "python3"
  },
  "language_info": {
   "codemirror_mode": {
    "name": "ipython",
    "version": 3
   },
   "file_extension": ".py",
   "mimetype": "text/x-python",
   "name": "python",
   "nbconvert_exporter": "python",
   "pygments_lexer": "ipython3",
   "version": "3.10.6"
  },
  "orig_nbformat": 4,
  "vscode": {
   "interpreter": {
    "hash": "1e34f4041224984483483a0ab98a959c84b5eb2e5dd93018c41185f6faee2159"
   }
  }
 },
 "nbformat": 4,
 "nbformat_minor": 2
}
